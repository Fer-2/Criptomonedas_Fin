{
 "cells": [
  {
   "cell_type": "markdown",
   "id": "29c84e4f-b48e-438c-99d7-c99098d78357",
   "metadata": {},
   "source": [
    "# CRIPTOMONEDA\n",
    "Una **criptomoneda** es una forma de dinero digital o virtual que utiliza criptografía para asegurar las transacciones y controlar la creación de nuevas unidades. A diferencia de las monedas tradicionales, las criptomonedas operan en una red descentralizada basada en la tecnología blockchain\n",
    "\n"
   ]
  },
  {
   "cell_type": "markdown",
   "id": "cd47d8e1-d6cf-4cf6-bb84-11858592eb27",
   "metadata": {},
   "source": [
    "<div style=\"text-align: center;\">\n",
    "  <img src=\"https://s2.coinmarketcap.com/static/img/coins/200x200/1.png\" alt=\"BIT COIN\">\n",
    "</div>\n",
    "\n"
   ]
  },
  {
   "cell_type": "markdown",
   "id": "7d437a82-5f30-4db4-9c4e-c886fb15f424",
   "metadata": {},
   "source": [
    "# Análisis del Mercado de Criptomonedas\n",
    "**Objetivos**"
   ]
  },
  {
   "cell_type": "markdown",
   "id": "3cf3ae62-fb6a-4e5f-8f1b-48cab77f89f0",
   "metadata": {},
   "source": [
    "- Obtener datos en tiempo real sobre precios de criptomonedas, capitalización de mercado, volumen de comercio, y otras métricas relevantes."
   ]
  },
  {
   "cell_type": "code",
   "execution_count": 1,
   "id": "70fbff19-2370-4d40-9846-4e70ed899249",
   "metadata": {},
   "outputs": [
    {
     "name": "stdout",
     "output_type": "stream",
     "text": [
      "Precio actual de Bitcoin (USD): 57291\n",
      "Capitalización de mercado de Bitcoin (USD): 1129754137055\n",
      "Volumen de comercio en 24h (USD): 37117101497\n",
      "Máximo en 24h (USD): 57880\n",
      "Mínimo en 24h (USD): 55140\n",
      "Cambio porcentual en 24h: 3.01229%\n"
     ]
    }
   ],
   "source": [
    "import requests\n",
    "\n",
    "def obtener_datos_completos_bitcoin():\n",
    "    url = 'https://api.coingecko.com/api/v3/coins/markets'\n",
    "    params = {\n",
    "        'vs_currency': 'usd',\n",
    "        'ids': 'bitcoin'\n",
    "    }\n",
    "\n",
    "    try:\n",
    "        response = requests.get(url, params=params)\n",
    "        response.raise_for_status()\n",
    "        data = response.json()\n",
    "        if data:\n",
    "            bitcoin_data = data[0]\n",
    "            precio = bitcoin_data['current_price']\n",
    "            market_cap = bitcoin_data['market_cap']\n",
    "            volumen_comercio = bitcoin_data['total_volume']\n",
    "            maximo_24h = bitcoin_data['high_24h']\n",
    "            minimo_24h = bitcoin_data['low_24h']\n",
    "            cambio_porcentual_24h = bitcoin_data['price_change_percentage_24h']\n",
    "\n",
    "            print(f'Precio actual de Bitcoin (USD): {precio}')\n",
    "            print(f'Capitalización de mercado de Bitcoin (USD): {market_cap}')\n",
    "            print(f'Volumen de comercio en 24h (USD): {volumen_comercio}')\n",
    "            print(f'Máximo en 24h (USD): {maximo_24h}')\n",
    "            print(f'Mínimo en 24h (USD): {minimo_24h}')\n",
    "            print(f'Cambio porcentual en 24h: {cambio_porcentual_24h}%')\n",
    "        else:\n",
    "            print('No se pudo obtener los datos de Bitcoin.')\n",
    "    except requests.exceptions.RequestException as e:\n",
    "        print(f'Error al realizar la solicitud: {e}')\n",
    "    except ValueError:\n",
    "        print('Error al analizar la respuesta JSON.')\n",
    "\n",
    "if __name__ == '__main__':\n",
    "    obtener_datos_completos_bitcoin()\n"
   ]
  },
  {
   "cell_type": "code",
   "execution_count": null,
   "id": "7d2e1120-1116-4283-a158-212a579ced1c",
   "metadata": {},
   "outputs": [],
   "source": [
    "import requests\n",
    "import pandas as pd\n",
    "import matplotlib.pyplot as plt\n",
    "from datetime import datetime, timedelta\n",
    "\n",
    "def obtener_datos_historicos(symbol, days):\n",
    "    end_date = datetime.now()\n",
    "    start_date = end_date - timedelta(days=days)\n",
    "    \n",
    "    # URL de la API \n",
    "    url = 'https://api.coingecko.com/api/v3/coins/{symbol}/market_chart/range'\n",
    "    params = {\n",
    "        'vs_currency': 'usd',\n",
    "        'from': int(start_date.timestamp()),\n",
    "        'to': int(end_date.timestamp())\n",
    "    }\n",
    "    \n",
    "    try:\n",
    "       \n",
    "        response = requests.get(url.format(symbol=symbol), params=params)\n",
    "        response.raise_for_status()\n",
    "        data = response.json()\n",
    "        \n",
    "        df = pd.DataFrame(data['prices'], columns=['timestamp', 'price'])\n",
    "        \n",
    "        # Convertir la columna de timestamp a datetime\n",
    "        df['timestamp'] = pd.to_datetime(df['timestamp'], unit='ms')\n",
    "        \n",
    "        # Redondear la columna de timestamp a la fecha por día\n",
    "        df['timestamp'] = df['timestamp'].dt.date\n",
    "        \n",
    "        # Agrupar por fecha y obtener el precio promedio diario de Bitcoin\n",
    "        df = df.groupby('timestamp', as_index=False)['price'].mean()\n",
    "        \n",
    "        # Guardar los datos en un archivo CSV\n",
    "        csv_filename = f'{symbol}_historical_data.csv'\n",
    "        df.to_csv(csv_filename, index=False)\n",
    "        \n",
    "        return df\n",
    "    \n",
    "    except requests.exceptions.RequestException as e:\n",
    "        print(f'Error al realizar la solicitud: {e}')\n",
    "        return None\n",
    "    except ValueError:\n",
    "        print('Error al analizar la respuesta JSON.')\n",
    "        return None\n",
    "\n",
    "def graficar_datos(df):\n",
    "    # Configurar el gráfico\n",
    "    plt.figure(figsize=(10, 6))\n",
    "    plt.plot(df['timestamp'], df['price'], marker='o', linestyle='-', color='b', label='Precio')\n",
    "    plt.title('Precio promedio diario de Bitcoin')\n",
    "    plt.xlabel('Fecha')\n",
    "    plt.ylabel('Precio (USD)')\n",
    "    plt.xticks(rotation=45)\n",
    "    plt.grid(True)\n",
    "    plt.legend()\n",
    "    \n",
    "    # Mostrar el gráfico\n",
    "    plt.tight_layout()\n",
    "    plt.show()\n",
    "\n",
    "if __name__ == '__main__':\n",
    "    # Obtener datos históricos de Bitcoin \n",
    "    symbol = 'bitcoin'\n",
    "    days = 10\n",
    "    df_bitcoin = obtener_datos_historicos(symbol, days)\n",
    "    \n",
    "    if df_bitcoin is not None:\n",
    "        print('Datos históricos de Bitcoin:')\n",
    "        print(df_bitcoin)\n",
    "        \n",
    "        # Graficar los datos\n",
    "        graficar_datos(df_bitcoin)\n",
    "    else:\n",
    "        print('No se pudieron obtener los datos históricos de Bitcoin.')\n",
    "\n"
   ]
  }
 ],
 "metadata": {
  "kernelspec": {
   "display_name": "Python 3 (ipykernel)",
   "language": "python",
   "name": "python3"
  },
  "language_info": {
   "codemirror_mode": {
    "name": "ipython",
    "version": 3
   },
   "file_extension": ".py",
   "mimetype": "text/x-python",
   "name": "python",
   "nbconvert_exporter": "python",
   "pygments_lexer": "ipython3",
   "version": "3.11.7"
  }
 },
 "nbformat": 4,
 "nbformat_minor": 5
}
